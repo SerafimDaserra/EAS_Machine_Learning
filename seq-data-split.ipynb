{
 "cells": [
  {
   "cell_type": "code",
   "execution_count": 19,
   "metadata": {
    "executionInfo": {
     "elapsed": 1623,
     "status": "ok",
     "timestamp": 1649987626165,
     "user": {
      "displayName": "Sara El Mekkaoui",
      "userId": "06138827614579335663"
     },
     "user_tz": 240
    },
    "id": "i7sPSkXDsiLp"
   },
   "outputs": [],
   "source": [
    "import numpy as np \n",
    "import pandas as pd \n",
    "from sklearn.model_selection import train_test_split\n",
    "from sklearn.preprocessing import StandardScaler\n",
    "import seaborn as sns"
   ]
  },
  {
   "cell_type": "code",
   "execution_count": 20,
   "metadata": {
    "colab": {
     "base_uri": "https://localhost:8080/"
    },
    "executionInfo": {
     "elapsed": 3129,
     "status": "ok",
     "timestamp": 1649989389367,
     "user": {
      "displayName": "Sara El Mekkaoui",
      "userId": "06138827614579335663"
     },
     "user_tz": 240
    },
    "id": "PvHVu6ybOewu",
    "outputId": "22380701-35e6-4c15-8831-d5cbc87b3564"
   },
   "outputs": [
    {
     "data": {
      "text/plain": [
       "(155734, 41)"
      ]
     },
     "execution_count": 20,
     "metadata": {},
     "output_type": "execute_result"
    }
   ],
   "source": [
    "data_path = 'dataset/dataset.csv'\n",
    "split_data_path = 'data/data_seq/'\n",
    "#Load the dataset and select a subset whith the predictive features + target + port_call_id (ROW_ID)\n",
    "df = pd.read_csv('C:/Users/seraf/Downloads/EAS MACHINE LEARNING/EAS LSTM/dataset.csv')\n",
    "df.shape"
   ]
  },
  {
   "cell_type": "code",
   "execution_count": 28,
   "metadata": {},
   "outputs": [
    {
     "data": {
      "text/html": [
       "<div>\n",
       "<style scoped>\n",
       "    .dataframe tbody tr th:only-of-type {\n",
       "        vertical-align: middle;\n",
       "    }\n",
       "\n",
       "    .dataframe tbody tr th {\n",
       "        vertical-align: top;\n",
       "    }\n",
       "\n",
       "    .dataframe thead th {\n",
       "        text-align: right;\n",
       "    }\n",
       "</style>\n",
       "<table border=\"1\" class=\"dataframe\">\n",
       "  <thead>\n",
       "    <tr style=\"text-align: right;\">\n",
       "      <th></th>\n",
       "      <th>ROW_ID</th>\n",
       "      <th>Max_Draught</th>\n",
       "      <th>Latitude</th>\n",
       "      <th>Longitude</th>\n",
       "      <th>Speed_over_Ground</th>\n",
       "      <th>COG_cos</th>\n",
       "      <th>COG_sin</th>\n",
       "      <th>TH_cos</th>\n",
       "      <th>TH_sin</th>\n",
       "      <th>Navigational_Status_0.0</th>\n",
       "      <th>...</th>\n",
       "      <th>sst</th>\n",
       "      <th>Origin_Lat</th>\n",
       "      <th>Origin_Lon</th>\n",
       "      <th>acc_dist</th>\n",
       "      <th>acc_time_hours</th>\n",
       "      <th>leg_distance</th>\n",
       "      <th>leg_speed</th>\n",
       "      <th>leg_elapsed_time_hours</th>\n",
       "      <th>remaining_distance</th>\n",
       "      <th>Target</th>\n",
       "    </tr>\n",
       "  </thead>\n",
       "  <tbody>\n",
       "    <tr>\n",
       "      <th>0</th>\n",
       "      <td>201399390</td>\n",
       "      <td>12.5</td>\n",
       "      <td>29.968295</td>\n",
       "      <td>32.586368</td>\n",
       "      <td>7.5</td>\n",
       "      <td>0.996637</td>\n",
       "      <td>0.081939</td>\n",
       "      <td>0.997564</td>\n",
       "      <td>0.997564</td>\n",
       "      <td>1</td>\n",
       "      <td>...</td>\n",
       "      <td>291.619561</td>\n",
       "      <td>29.968295</td>\n",
       "      <td>32.586368</td>\n",
       "      <td>0.000000</td>\n",
       "      <td>0.000000</td>\n",
       "      <td>0.000000</td>\n",
       "      <td>0.000000</td>\n",
       "      <td>0.000000</td>\n",
       "      <td>2379.528721</td>\n",
       "      <td>190.491111</td>\n",
       "    </tr>\n",
       "    <tr>\n",
       "      <th>1</th>\n",
       "      <td>201399390</td>\n",
       "      <td>12.5</td>\n",
       "      <td>31.119630</td>\n",
       "      <td>32.314218</td>\n",
       "      <td>9.0</td>\n",
       "      <td>0.962218</td>\n",
       "      <td>0.272280</td>\n",
       "      <td>0.965926</td>\n",
       "      <td>0.965926</td>\n",
       "      <td>1</td>\n",
       "      <td>...</td>\n",
       "      <td>291.619561</td>\n",
       "      <td>29.968295</td>\n",
       "      <td>32.586368</td>\n",
       "      <td>70.347066</td>\n",
       "      <td>8.803056</td>\n",
       "      <td>70.347066</td>\n",
       "      <td>7.991210</td>\n",
       "      <td>8.803056</td>\n",
       "      <td>2315.022185</td>\n",
       "      <td>181.688056</td>\n",
       "    </tr>\n",
       "    <tr>\n",
       "      <th>2</th>\n",
       "      <td>201399390</td>\n",
       "      <td>12.5</td>\n",
       "      <td>31.150002</td>\n",
       "      <td>32.323298</td>\n",
       "      <td>8.8</td>\n",
       "      <td>0.971134</td>\n",
       "      <td>0.238533</td>\n",
       "      <td>0.974370</td>\n",
       "      <td>0.974370</td>\n",
       "      <td>1</td>\n",
       "      <td>...</td>\n",
       "      <td>290.777588</td>\n",
       "      <td>29.968295</td>\n",
       "      <td>32.586368</td>\n",
       "      <td>72.224474</td>\n",
       "      <td>9.013889</td>\n",
       "      <td>1.877407</td>\n",
       "      <td>8.904700</td>\n",
       "      <td>0.210833</td>\n",
       "      <td>2315.022185</td>\n",
       "      <td>181.477222</td>\n",
       "    </tr>\n",
       "    <tr>\n",
       "      <th>3</th>\n",
       "      <td>201399390</td>\n",
       "      <td>12.5</td>\n",
       "      <td>31.800778</td>\n",
       "      <td>31.841347</td>\n",
       "      <td>12.4</td>\n",
       "      <td>0.290702</td>\n",
       "      <td>-0.956814</td>\n",
       "      <td>0.275637</td>\n",
       "      <td>0.275637</td>\n",
       "      <td>1</td>\n",
       "      <td>...</td>\n",
       "      <td>291.992950</td>\n",
       "      <td>29.968295</td>\n",
       "      <td>32.586368</td>\n",
       "      <td>118.371066</td>\n",
       "      <td>14.111667</td>\n",
       "      <td>46.146592</td>\n",
       "      <td>9.052296</td>\n",
       "      <td>5.097778</td>\n",
       "      <td>2277.175053</td>\n",
       "      <td>176.379444</td>\n",
       "    </tr>\n",
       "    <tr>\n",
       "      <th>4</th>\n",
       "      <td>201399390</td>\n",
       "      <td>12.5</td>\n",
       "      <td>31.925418</td>\n",
       "      <td>31.391537</td>\n",
       "      <td>12.6</td>\n",
       "      <td>0.302370</td>\n",
       "      <td>-0.953191</td>\n",
       "      <td>0.309017</td>\n",
       "      <td>0.309017</td>\n",
       "      <td>1</td>\n",
       "      <td>...</td>\n",
       "      <td>292.288910</td>\n",
       "      <td>29.968295</td>\n",
       "      <td>32.586368</td>\n",
       "      <td>142.536492</td>\n",
       "      <td>16.033611</td>\n",
       "      <td>24.165426</td>\n",
       "      <td>12.573426</td>\n",
       "      <td>1.921944</td>\n",
       "      <td>2259.951729</td>\n",
       "      <td>174.457500</td>\n",
       "    </tr>\n",
       "    <tr>\n",
       "      <th>...</th>\n",
       "      <td>...</td>\n",
       "      <td>...</td>\n",
       "      <td>...</td>\n",
       "      <td>...</td>\n",
       "      <td>...</td>\n",
       "      <td>...</td>\n",
       "      <td>...</td>\n",
       "      <td>...</td>\n",
       "      <td>...</td>\n",
       "      <td>...</td>\n",
       "      <td>...</td>\n",
       "      <td>...</td>\n",
       "      <td>...</td>\n",
       "      <td>...</td>\n",
       "      <td>...</td>\n",
       "      <td>...</td>\n",
       "      <td>...</td>\n",
       "      <td>...</td>\n",
       "      <td>...</td>\n",
       "      <td>...</td>\n",
       "      <td>...</td>\n",
       "    </tr>\n",
       "    <tr>\n",
       "      <th>155729</th>\n",
       "      <td>201421189</td>\n",
       "      <td>7.6</td>\n",
       "      <td>35.402583</td>\n",
       "      <td>-9.377683</td>\n",
       "      <td>12.4</td>\n",
       "      <td>-0.974370</td>\n",
       "      <td>0.224951</td>\n",
       "      <td>-0.981627</td>\n",
       "      <td>-0.981627</td>\n",
       "      <td>1</td>\n",
       "      <td>...</td>\n",
       "      <td>290.966736</td>\n",
       "      <td>43.612900</td>\n",
       "      <td>-5.961367</td>\n",
       "      <td>669.789045</td>\n",
       "      <td>164.968056</td>\n",
       "      <td>45.743152</td>\n",
       "      <td>12.856222</td>\n",
       "      <td>3.558056</td>\n",
       "      <td>157.752103</td>\n",
       "      <td>12.256389</td>\n",
       "    </tr>\n",
       "    <tr>\n",
       "      <th>155730</th>\n",
       "      <td>201421189</td>\n",
       "      <td>7.6</td>\n",
       "      <td>34.775933</td>\n",
       "      <td>-9.200050</td>\n",
       "      <td>12.3</td>\n",
       "      <td>-0.974370</td>\n",
       "      <td>0.224951</td>\n",
       "      <td>-0.974370</td>\n",
       "      <td>-0.974370</td>\n",
       "      <td>1</td>\n",
       "      <td>...</td>\n",
       "      <td>291.892303</td>\n",
       "      <td>43.612900</td>\n",
       "      <td>-5.961367</td>\n",
       "      <td>708.333305</td>\n",
       "      <td>168.176111</td>\n",
       "      <td>38.544260</td>\n",
       "      <td>12.014835</td>\n",
       "      <td>3.208056</td>\n",
       "      <td>111.859948</td>\n",
       "      <td>9.048333</td>\n",
       "    </tr>\n",
       "    <tr>\n",
       "      <th>155731</th>\n",
       "      <td>201421189</td>\n",
       "      <td>7.6</td>\n",
       "      <td>34.289550</td>\n",
       "      <td>-9.078950</td>\n",
       "      <td>12.3</td>\n",
       "      <td>-0.970296</td>\n",
       "      <td>0.241922</td>\n",
       "      <td>-0.961262</td>\n",
       "      <td>-0.961262</td>\n",
       "      <td>1</td>\n",
       "      <td>...</td>\n",
       "      <td>292.103058</td>\n",
       "      <td>43.612900</td>\n",
       "      <td>-5.961367</td>\n",
       "      <td>738.078930</td>\n",
       "      <td>170.637222</td>\n",
       "      <td>29.745625</td>\n",
       "      <td>12.086258</td>\n",
       "      <td>2.461111</td>\n",
       "      <td>71.926738</td>\n",
       "      <td>6.587222</td>\n",
       "    </tr>\n",
       "    <tr>\n",
       "      <th>155732</th>\n",
       "      <td>201421189</td>\n",
       "      <td>7.6</td>\n",
       "      <td>34.009483</td>\n",
       "      <td>-8.975700</td>\n",
       "      <td>11.9</td>\n",
       "      <td>-0.987688</td>\n",
       "      <td>0.156434</td>\n",
       "      <td>-0.984808</td>\n",
       "      <td>-0.984808</td>\n",
       "      <td>1</td>\n",
       "      <td>...</td>\n",
       "      <td>292.136322</td>\n",
       "      <td>43.612900</td>\n",
       "      <td>-5.961367</td>\n",
       "      <td>755.623720</td>\n",
       "      <td>172.095833</td>\n",
       "      <td>17.544790</td>\n",
       "      <td>12.028422</td>\n",
       "      <td>1.458611</td>\n",
       "      <td>65.930109</td>\n",
       "      <td>5.128611</td>\n",
       "    </tr>\n",
       "    <tr>\n",
       "      <th>155733</th>\n",
       "      <td>201421189</td>\n",
       "      <td>7.6</td>\n",
       "      <td>33.305383</td>\n",
       "      <td>-8.815200</td>\n",
       "      <td>11.3</td>\n",
       "      <td>-0.978148</td>\n",
       "      <td>0.207912</td>\n",
       "      <td>-0.961262</td>\n",
       "      <td>-0.961262</td>\n",
       "      <td>1</td>\n",
       "      <td>...</td>\n",
       "      <td>291.021362</td>\n",
       "      <td>43.612900</td>\n",
       "      <td>-5.961367</td>\n",
       "      <td>798.551527</td>\n",
       "      <td>175.590278</td>\n",
       "      <td>42.927807</td>\n",
       "      <td>12.284587</td>\n",
       "      <td>3.494444</td>\n",
       "      <td>16.756688</td>\n",
       "      <td>1.634167</td>\n",
       "    </tr>\n",
       "  </tbody>\n",
       "</table>\n",
       "<p>155734 rows × 41 columns</p>\n",
       "</div>"
      ],
      "text/plain": [
       "           ROW_ID  Max_Draught   Latitude  Longitude  Speed_over_Ground  \\\n",
       "0       201399390         12.5  29.968295  32.586368                7.5   \n",
       "1       201399390         12.5  31.119630  32.314218                9.0   \n",
       "2       201399390         12.5  31.150002  32.323298                8.8   \n",
       "3       201399390         12.5  31.800778  31.841347               12.4   \n",
       "4       201399390         12.5  31.925418  31.391537               12.6   \n",
       "...           ...          ...        ...        ...                ...   \n",
       "155729  201421189          7.6  35.402583  -9.377683               12.4   \n",
       "155730  201421189          7.6  34.775933  -9.200050               12.3   \n",
       "155731  201421189          7.6  34.289550  -9.078950               12.3   \n",
       "155732  201421189          7.6  34.009483  -8.975700               11.9   \n",
       "155733  201421189          7.6  33.305383  -8.815200               11.3   \n",
       "\n",
       "         COG_cos   COG_sin    TH_cos    TH_sin  Navigational_Status_0.0  ...  \\\n",
       "0       0.996637  0.081939  0.997564  0.997564                        1  ...   \n",
       "1       0.962218  0.272280  0.965926  0.965926                        1  ...   \n",
       "2       0.971134  0.238533  0.974370  0.974370                        1  ...   \n",
       "3       0.290702 -0.956814  0.275637  0.275637                        1  ...   \n",
       "4       0.302370 -0.953191  0.309017  0.309017                        1  ...   \n",
       "...          ...       ...       ...       ...                      ...  ...   \n",
       "155729 -0.974370  0.224951 -0.981627 -0.981627                        1  ...   \n",
       "155730 -0.974370  0.224951 -0.974370 -0.974370                        1  ...   \n",
       "155731 -0.970296  0.241922 -0.961262 -0.961262                        1  ...   \n",
       "155732 -0.987688  0.156434 -0.984808 -0.984808                        1  ...   \n",
       "155733 -0.978148  0.207912 -0.961262 -0.961262                        1  ...   \n",
       "\n",
       "               sst  Origin_Lat  Origin_Lon    acc_dist  acc_time_hours  \\\n",
       "0       291.619561   29.968295   32.586368    0.000000        0.000000   \n",
       "1       291.619561   29.968295   32.586368   70.347066        8.803056   \n",
       "2       290.777588   29.968295   32.586368   72.224474        9.013889   \n",
       "3       291.992950   29.968295   32.586368  118.371066       14.111667   \n",
       "4       292.288910   29.968295   32.586368  142.536492       16.033611   \n",
       "...            ...         ...         ...         ...             ...   \n",
       "155729  290.966736   43.612900   -5.961367  669.789045      164.968056   \n",
       "155730  291.892303   43.612900   -5.961367  708.333305      168.176111   \n",
       "155731  292.103058   43.612900   -5.961367  738.078930      170.637222   \n",
       "155732  292.136322   43.612900   -5.961367  755.623720      172.095833   \n",
       "155733  291.021362   43.612900   -5.961367  798.551527      175.590278   \n",
       "\n",
       "        leg_distance  leg_speed  leg_elapsed_time_hours  remaining_distance  \\\n",
       "0           0.000000   0.000000                0.000000         2379.528721   \n",
       "1          70.347066   7.991210                8.803056         2315.022185   \n",
       "2           1.877407   8.904700                0.210833         2315.022185   \n",
       "3          46.146592   9.052296                5.097778         2277.175053   \n",
       "4          24.165426  12.573426                1.921944         2259.951729   \n",
       "...              ...        ...                     ...                 ...   \n",
       "155729     45.743152  12.856222                3.558056          157.752103   \n",
       "155730     38.544260  12.014835                3.208056          111.859948   \n",
       "155731     29.745625  12.086258                2.461111           71.926738   \n",
       "155732     17.544790  12.028422                1.458611           65.930109   \n",
       "155733     42.927807  12.284587                3.494444           16.756688   \n",
       "\n",
       "            Target  \n",
       "0       190.491111  \n",
       "1       181.688056  \n",
       "2       181.477222  \n",
       "3       176.379444  \n",
       "4       174.457500  \n",
       "...            ...  \n",
       "155729   12.256389  \n",
       "155730    9.048333  \n",
       "155731    6.587222  \n",
       "155732    5.128611  \n",
       "155733    1.634167  \n",
       "\n",
       "[155734 rows x 41 columns]"
      ]
     },
     "execution_count": 28,
     "metadata": {},
     "output_type": "execute_result"
    }
   ],
   "source": [
    "df "
   ]
  },
  {
   "cell_type": "code",
   "execution_count": 21,
   "metadata": {
    "colab": {
     "base_uri": "https://localhost:8080/"
    },
    "executionInfo": {
     "elapsed": 143,
     "status": "ok",
     "timestamp": 1649989448224,
     "user": {
      "displayName": "Sara El Mekkaoui",
      "userId": "06138827614579335663"
     },
     "user_tz": 240
    },
    "id": "ifxfp90KhJJU",
    "outputId": "1e350ce8-85e4-4239-cb0d-87102b6a097d"
   },
   "outputs": [
    {
     "name": "stdout",
     "output_type": "stream",
     "text": [
      "The number of examples/voyages in the train set is: 1417\n",
      "The number of examples/voyages in the validation set is: 709\n",
      "The number of examples/voyages in the test set is: 708\n",
      "\n",
      "The train set shape is: (77122, 41)\n",
      "The validation set shape is: (38835, 41)\n",
      "The test set shape is: (39777, 41)\n"
     ]
    }
   ],
   "source": [
    "# Split the dataset to train, validation, and test sets \n",
    "# Define a list of port calls\n",
    "port_calls = df.loc[:,'ROW_ID'].unique()\n",
    "\n",
    "# Define the split indexes using the ratio 5:2.5:2.5\n",
    "indx_1 = round(len(port_calls)*0.5)\n",
    "indx_2 = indx_1 + round(len(port_calls)*0.25)\n",
    "\n",
    "#define the voyages for train, validation, and test sets \n",
    "train_calls = port_calls[: indx_1]\n",
    "valid_calls = port_calls[indx_1 : indx_2+1]\n",
    "test_calls = port_calls[indx_2 +1 :]\n",
    "\n",
    "print('The number of examples/voyages in the train set is:', len(train_calls))\n",
    "print('The number of examples/voyages in the validation set is:', len(valid_calls))\n",
    "print('The number of examples/voyages in the test set is:', len(test_calls))\n",
    "\n",
    "#split the data into train, validation, and test \n",
    "train = df[df['ROW_ID'].isin(train_calls)]\n",
    "valid = df[df['ROW_ID'].isin(valid_calls)]\n",
    "test = df[df['ROW_ID'].isin(test_calls)]\n",
    "\n",
    "print('')\n",
    "print('The train set shape is:', train.shape)\n",
    "print('The validation set shape is:', valid.shape)\n",
    "print('The test set shape is:', test.shape)"
   ]
  },
  {
   "cell_type": "code",
   "execution_count": 22,
   "metadata": {
    "executionInfo": {
     "elapsed": 325,
     "status": "ok",
     "timestamp": 1649989466659,
     "user": {
      "displayName": "Sara El Mekkaoui",
      "userId": "06138827614579335663"
     },
     "user_tz": 240
    },
    "id": "FdWk3Te9O-FT"
   },
   "outputs": [],
   "source": [
    "# Define the mean and std of the remaining distance to destination.\n",
    "rem_dist_train_std= train.remaining_distance.std()\n",
    "rem_dist_train_mean= train.remaining_distance.mean()\n",
    "\n",
    "# Standardize the data\n",
    "scaled_features_train = train.copy()\n",
    "scaled_features_valid = valid.copy()\n",
    "scaled_features_test = test.copy()\n",
    "\n",
    "col_names = ['Max_Draught','Latitude','Longitude','Speed_over_Ground','GT','DWT','LOA','BEAM','COG_cos','COG_sin','TH_cos','TH_sin', 'current_uo', 'current_vo','wind_u10', 'wind_v10',\n",
    "'mwd', 'mwp', 'swh','sst', 'Age','Origin_Lat','Origin_Lon', 'acc_dist','acc_time_hours','leg_distance','leg_speed','leg_elapsed_time_hours','remaining_distance']\n",
    "\n",
    "features_train = scaled_features_train[col_names]\n",
    "features_valid = scaled_features_valid[col_names]\n",
    "features_test = scaled_features_test[col_names]\n",
    "\n",
    "scaler = StandardScaler().fit(features_train.values)\n",
    "\n",
    "features_train = scaler.transform(features_train.values)\n",
    "features_valid = scaler.transform(features_valid.values)\n",
    "features_test = scaler.transform(features_test.values)\n",
    "\n",
    "scaled_features_train[col_names] = features_train\n",
    "scaled_features_valid[col_names] = features_valid\n",
    "scaled_features_test[col_names] = features_test\n"
   ]
  },
  {
   "cell_type": "code",
   "execution_count": 23,
   "metadata": {
    "colab": {
     "base_uri": "https://localhost:8080/",
     "height": 858
    },
    "executionInfo": {
     "elapsed": 2148,
     "status": "ok",
     "timestamp": 1649989144497,
     "user": {
      "displayName": "Sara El Mekkaoui",
      "userId": "06138827614579335663"
     },
     "user_tz": 240
    },
    "id": "kfnd7QKluDWL",
    "outputId": "f4ebf1a6-f4a5-4648-bfe7-d8384ab45dec"
   },
   "outputs": [
    {
     "name": "stdout",
     "output_type": "stream",
     "text": [
      "The max length of sequences in the train set is: 65\n",
      "The max length of sequences in the validation set is: 65\n",
      "The max length of sequences in the test set is: 65\n"
     ]
    },
    {
     "name": "stderr",
     "output_type": "stream",
     "text": [
      "C:\\Users\\seraf\\anaconda3\\lib\\site-packages\\seaborn\\_oldcore.py:1119: FutureWarning: use_inf_as_na option is deprecated and will be removed in a future version. Convert inf values to NaN before operating instead.\n",
      "  with pd.option_context('mode.use_inf_as_na', True):\n"
     ]
    },
    {
     "data": {
      "image/png": "[encoded data removed]",
      "text/plain": [
       "<Figure size 432x288 with 1 Axes>"
      ]
     },
     "metadata": {
      "needs_background": "light"
     },
     "output_type": "display_data"
    },
    {
     "name": "stderr",
     "output_type": "stream",
     "text": [
      "C:\\Users\\seraf\\anaconda3\\lib\\site-packages\\seaborn\\_oldcore.py:1119: FutureWarning: use_inf_as_na option is deprecated and will be removed in a future version. Convert inf values to NaN before operating instead.\n",
      "  with pd.option_context('mode.use_inf_as_na', True):\n"
     ]
    },
    {
     "data": {
      "image/png": "[encoded data removed]",
      "text/plain": [
       "<Figure size 432x288 with 1 Axes>"
      ]
     },
     "metadata": {
      "needs_background": "light"
     },
     "output_type": "display_data"
    },
    {
     "name": "stderr",
     "output_type": "stream",
     "text": [
      "C:\\Users\\seraf\\anaconda3\\lib\\site-packages\\seaborn\\_oldcore.py:1119: FutureWarning: use_inf_as_na option is deprecated and will be removed in a future version. Convert inf values to NaN before operating instead.\n",
      "  with pd.option_context('mode.use_inf_as_na', True):\n"
     ]
    },
    {
     "data": {
      "image/png": "[encoded data removed]",
      "text/plain": [
       "<Figure size 432x288 with 1 Axes>"
      ]
     },
     "metadata": {
      "needs_background": "light"
     },
     "output_type": "display_data"
    }
   ],
   "source": [
    "import matplotlib.pyplot as plt\n",
    "# Define the length of sequences\n",
    "def return_seq_len(dataset):\n",
    "  T = []\n",
    "  voyages = dataset.ROW_ID.unique() \n",
    "  for i in range(len(voyages)):\n",
    "      data = dataset.loc[dataset['ROW_ID'] == voyages[i]]\n",
    "      T.append(data.shape[0])\n",
    "  return T\n",
    "\n",
    "train_seq_len = return_seq_len(scaled_features_train)\n",
    "valid_seq_len = return_seq_len(scaled_features_valid)\n",
    "test_seq_len = return_seq_len(scaled_features_test)\n",
    "\n",
    "print('The max length of sequences in the train set is:', max(train_seq_len))\n",
    "print('The max length of sequences in the validation set is:', max(valid_seq_len))\n",
    "print('The max length of sequences in the test set is:', max(test_seq_len))\n",
    "\n",
    "ax = sns.histplot(train_seq_len)\n",
    "ax.set(xlabel = 'Train set sequence length')\n",
    "plt.show()\n",
    "\n",
    "ax = sns.histplot(valid_seq_len)\n",
    "ax.set(xlabel = 'Validation set sequence length')\n",
    "plt.show()\n",
    "\n",
    "ax = sns.histplot(test_seq_len)\n",
    "ax.set(xlabel = 'Test set sequence length')\n",
    "plt.show()"
   ]
  },
  {
   "cell_type": "code",
   "execution_count": 27,
   "metadata": {
    "colab": {
     "base_uri": "https://localhost:8080/"
    },
    "executionInfo": {
     "elapsed": 5282,
     "status": "ok",
     "timestamp": 1649989180744,
     "user": {
      "displayName": "Sara El Mekkaoui",
      "userId": "06138827614579335663"
     },
     "user_tz": 240
    },
    "id": "vz2AvnjCBtDx",
    "outputId": "ce92579d-99f8-4a04-9b71-0247213a56da"
   },
   "outputs": [
    {
     "name": "stdout",
     "output_type": "stream",
     "text": [
      "Max seqquences length is: 65\n",
      "Number of features is: 39\n",
      "Shape of x_train is: (1417, 65, 39)\n",
      "Shape of y_train is: (1417, 65, 1)\n",
      "Shape of x_valid is: (709, 65, 39)\n",
      "Shape of y_valid is: (709, 65, 1)\n",
      "Shape of x_test is: (708, 65, 39)\n",
      "Shape of y_test is: (708, 65, 1)\n"
     ]
    }
   ],
   "source": [
    "#make sequences\n",
    "m = max(max(train_seq_len), max(valid_seq_len), max(valid_seq_len))\n",
    "n_features = df.shape[1] - 2\n",
    "\n",
    "def make_sequences(set, dataset):\n",
    "  x =[]\n",
    "  y =[]\n",
    "\n",
    "  for i in range(len(set)):\n",
    "    data = dataset.loc[dataset['ROW_ID'] == set[i]]\n",
    "    l= m - len(data)\n",
    "    a = np.array(data.pop('Target'))\n",
    "    a = np.pad(a,(0,l), 'constant')\n",
    "    b = np.array(data.drop(['ROW_ID'], axis =1))\n",
    "    b = np.pad(b, ((0,l),(0,0)), 'constant')\n",
    "    x.append(b)\n",
    "    y.append(a)\n",
    "  x = np.reshape(x, (len(set), m, n_features))\n",
    "  y = np.reshape(y, (len(set), m))\n",
    "  return x, y\n",
    "\n",
    "x_train, y_train = make_sequences(train_calls, scaled_features_train)\n",
    "x_valid, y_valid = make_sequences(valid_calls, scaled_features_valid)\n",
    "x_test, y_test = make_sequences(test_calls, scaled_features_test)\n",
    "\n",
    "y_test = y_test.reshape(708,65,1)\n",
    "y_train = y_train.reshape(1417,65,1)\n",
    "y_valid = y_valid.reshape(709,65,1)\n",
    "\n",
    "\n",
    "print('Max seqquences length is:', m)\n",
    "print('Number of features is:', n_features)\n",
    "print('Shape of x_train is:', x_train.shape)\n",
    "print('Shape of y_train is:', y_train.shape)\n",
    "print('Shape of x_valid is:', x_valid.shape)\n",
    "print('Shape of y_valid is:', y_valid.shape)\n",
    "print('Shape of x_test is:', x_test.shape)\n",
    "print('Shape of y_test is:', y_test.shape)"
   ]
  },
  {
   "cell_type": "code",
   "execution_count": null,
   "metadata": {
    "id": "LLZOO4cDAzE_"
   },
   "outputs": [],
   "source": [
    "np.save(split_data_path + 'x_train', x_train)\n",
    "np.save(split_data_path + 'x_test', x_test)\n",
    "np.save(split_data_path + 'x_valid', x_valid)\n",
    "np.save(split_data_path + 'y_train', y_train)\n",
    "np.save(split_data_path + 'y_test', y_test)\n",
    "np.save(split_data_path + 'y_valid', y_valid)\n",
    "\n",
    "np.save(split_data_path + 'remaining_distance_std_train', rem_dist_train_std)\n",
    "np.save(split_data_path + 'remaining_distance_mean_train', rem_dist_train_mean)\n",
    "\n",
    "np.save(split_data_path + 'train_sequence_length', train_seq_len)\n",
    "np.save(split_data_path + 'valid_sequence_length', valid_seq_len)\n",
    "np.save(split_data_path + 'test_sequence_length', test_seq_len)"
   ]
  }
 ],
 "metadata": {
  "colab": {
   "authorship_tag": "ABX9TyNQ9KFOo6e2LZKR+w66YueU",
   "collapsed_sections": [],
   "mount_file_id": "1FuhOHU4DEVgYP14NHHRZUiLNaS4ejWqO",
   "name": "seq-data-split.ipynb",
   "provenance": [
    {
     "file_id": "10xsDH11_XqHqhbITd_DXwQJ8jyRDslks",
     "timestamp": 1626956819349
    },
    {
     "file_id": "1LTLUEJG7IGbRITjvNmfq4SldcWX2Q7Ww",
     "timestamp": 1623764323630
    }
   ]
  },
  "kernelspec": {
   "display_name": "Python 3 (ipykernel)",
   "language": "python",
   "name": "python3"
  },
  "language_info": {
   "codemirror_mode": {
    "name": "ipython",
    "version": 3
   },
   "file_extension": ".py",
   "mimetype": "text/x-python",
   "name": "python",
   "nbconvert_exporter": "python",
   "pygments_lexer": "ipython3",
   "version": "3.9.7"
  }
 },
 "nbformat": 4,
 "nbformat_minor": 4
}
